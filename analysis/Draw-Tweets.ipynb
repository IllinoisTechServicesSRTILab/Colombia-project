{
 "cells": [
  {
   "cell_type": "markdown",
   "metadata": {},
   "source": [
    "Uses work from Make-Fake-Tweets to draw movement"
   ]
  },
  {
   "cell_type": "code",
   "execution_count": null,
   "metadata": {},
   "outputs": [],
   "source": [
    "import geopandas as gpd\n",
    "import pandas as pd"
   ]
  },
  {
   "cell_type": "code",
   "execution_count": null,
   "metadata": {},
   "outputs": [],
   "source": [
    "columbia_df = gpd.read_file(\"../municipal_boundaries/MGN2012_MUNICIPIO_URBANCLUSTERS.shp\")"
   ]
  },
  {
   "cell_type": "code",
   "execution_count": null,
   "metadata": {},
   "outputs": [],
   "source": [
    "# reads the fake tweets csv I made\n",
    "df_tweets = pd.read_csv('../data/fake_tweets.csv')"
   ]
  },
  {
   "cell_type": "code",
   "execution_count": null,
   "metadata": {},
   "outputs": [],
   "source": [
    "# how to modify the plot\n",
    "plt = columbia_df.plot(figsize=(20, 10))\n",
    "plt.plot([-75, -71], [5, 0], color='red', marker='o')"
   ]
  },
  {
   "cell_type": "code",
   "execution_count": null,
   "metadata": {},
   "outputs": [],
   "source": [
    "plt = columbia_df.plot(figsize=(20, 10))\n",
    "# this takes a long time to run because the plt.plot step is slow\n",
    "for row in range(len(df_tweets)):\n",
    "    # delete this if you want it to run longer\n",
    "    if (row == 1000):\n",
    "        break\n",
    "    data = df_tweets.loc[row]\n",
    "    \n",
    "    # pulls long and new_long and puts it in one array\n",
    "    longs = [data['Longitude'], data['New_Long']]\n",
    "    # pulls lat and new_lat and puts it in one list\n",
    "    lats = [data['Latitude'], data['New_Lat']]\n",
    "    # makes a point at (long, lat) and (new_long, new_lat) and draws a line\n",
    "    plt.plot(longs, lats, color='red', marker='o')"
   ]
  },
  {
   "cell_type": "code",
   "execution_count": null,
   "metadata": {},
   "outputs": [],
   "source": [
    "# save the image\n",
    "plt.get_figure().savefig('fake_movement.png')"
   ]
  }
 ],
 "metadata": {
  "kernelspec": {
   "display_name": "Python 3",
   "language": "python",
   "name": "python3"
  },
  "language_info": {
   "codemirror_mode": {
    "name": "ipython",
    "version": 3
   },
   "file_extension": ".py",
   "mimetype": "text/x-python",
   "name": "python",
   "nbconvert_exporter": "python",
   "pygments_lexer": "ipython3",
   "version": "3.7.3"
  }
 },
 "nbformat": 4,
 "nbformat_minor": 2
}
