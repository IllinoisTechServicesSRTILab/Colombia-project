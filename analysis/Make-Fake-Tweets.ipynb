{
 "cells": [
  {
   "cell_type": "markdown",
   "metadata": {},
   "source": [
    "Creates the Fake-Tweets csv"
   ]
  },
  {
   "cell_type": "code",
   "execution_count": null,
   "metadata": {},
   "outputs": [],
   "source": [
    "import geopandas as gpd\n",
    "import numpy as np\n",
    "import pandas as pd\n",
    "from shapely.geometry import Point,Polygon"
   ]
  },
  {
   "cell_type": "code",
   "execution_count": null,
   "metadata": {},
   "outputs": [],
   "source": [
    "# didn't use this as it takes too long, but I'm keeping it as a legacy function\n",
    "def generate_random_point(country_df):\n",
    "    min_bounds = country_df.bounds.min()\n",
    "    max_bounds = country_df.bounds.max()\n",
    "    min_x, min_y = min_bounds[0], min_bounds[1]\n",
    "    max_x, max_y = max_bounds[0], max_bounds[1]\n",
    "    while True:\n",
    "        seed_point_x = np.random.uniform(min_x, max_x)\n",
    "        seed_point_y = np.random.uniform(min_y, max_y)\n",
    "        bp = Point(seed_point_x, seed_point_y)\n",
    "        for index, row in country_df.iterrows():\n",
    "            if bp.within(row['geometry']):\n",
    "                return bp"
   ]
  },
  {
   "cell_type": "code",
   "execution_count": null,
   "metadata": {},
   "outputs": [],
   "source": [
    "# chooses a random row's lat, long, and location\n",
    "def choose_random_lat_long(tweet_data):\n",
    "    sample = tweet_data.sample(n=1)\n",
    "    return sample['Longitude'].values[0], sample['Latitude'].values[0], sample['Location'].values[0]"
   ]
  },
  {
   "cell_type": "code",
   "execution_count": null,
   "metadata": {},
   "outputs": [],
   "source": [
    "def filter_geocords(x):\n",
    "    try:\n",
    "        return float(x)\n",
    "    except:\n",
    "        return None"
   ]
  },
  {
   "cell_type": "code",
   "execution_count": null,
   "metadata": {},
   "outputs": [],
   "source": [
    "data = pd.read_csv('../data/LatLong-tweet-test.csv')"
   ]
  },
  {
   "cell_type": "code",
   "execution_count": null,
   "metadata": {},
   "outputs": [],
   "source": [
    "data.dropna(subset=['Latitude', 'Longitude'], inplace=True)"
   ]
  },
  {
   "cell_type": "code",
   "execution_count": null,
   "metadata": {},
   "outputs": [],
   "source": [
    "# turns lat and long into floats and drops rows that are invalid\n",
    "data['Latitude'] = data['Latitude'].apply(filter_geocords)\n",
    "data['Longitude'] = data['Longitude'].apply(filter_geocords)\n",
    "data.dropna(subset=['Latitude', 'Longitude'], inplace=True)"
   ]
  },
  {
   "cell_type": "code",
   "execution_count": null,
   "metadata": {},
   "outputs": [],
   "source": [
    "to_add_long = []\n",
    "to_add_lat = []\n",
    "to_add_loc = []\n",
    "for i in range(len(data)):\n",
    "    ret = choose_random_lat_long(data)\n",
    "    to_add_long.append(ret[0])\n",
    "    to_add_lat.append(ret[1])\n",
    "    to_add_loc.append(ret[2])"
   ]
  },
  {
   "cell_type": "code",
   "execution_count": null,
   "metadata": {},
   "outputs": [],
   "source": [
    "data['New_Long'] = to_add_long\n",
    "data['New_Lat'] = to_add_lat\n",
    "data['New_Loc'] = to_add_loc"
   ]
  },
  {
   "cell_type": "code",
   "execution_count": null,
   "metadata": {},
   "outputs": [],
   "source": [
    "data.head()"
   ]
  },
  {
   "cell_type": "code",
   "execution_count": null,
   "metadata": {},
   "outputs": [],
   "source": [
    "data.to_csv('../data/fake_tweets.csv')"
   ]
  },
  {
   "cell_type": "code",
   "execution_count": null,
   "metadata": {},
   "outputs": [],
   "source": []
  }
 ],
 "metadata": {
  "kernelspec": {
   "display_name": "Python 3",
   "language": "python",
   "name": "python3"
  },
  "language_info": {
   "codemirror_mode": {
    "name": "ipython",
    "version": 3
   },
   "file_extension": ".py",
   "mimetype": "text/x-python",
   "name": "python",
   "nbconvert_exporter": "python",
   "pygments_lexer": "ipython3",
   "version": "3.7.3"
  }
 },
 "nbformat": 4,
 "nbformat_minor": 2
}
