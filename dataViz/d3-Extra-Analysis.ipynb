{
 "cells": [
  {
   "cell_type": "markdown",
   "metadata": {},
   "source": [
    "This file was used to analyze each of the day files to get a global minimum tweet count and global maximum tweet count, which visualization.js uses as hard-coded numbers."
   ]
  },
  {
   "cell_type": "code",
   "execution_count": 1,
   "metadata": {},
   "outputs": [],
   "source": [
    "import pandas as pd"
   ]
  },
  {
   "cell_type": "code",
   "execution_count": 11,
   "metadata": {},
   "outputs": [
    {
     "data": {
      "text/plain": [
       "1584"
      ]
     },
     "execution_count": 11,
     "metadata": {},
     "output_type": "execute_result"
    }
   ],
   "source": [
    "pd.read_csv('[Day 01]-tweets.csv').groupby('Location').count().reset_index().max()['UserID']"
   ]
  },
  {
   "cell_type": "code",
   "execution_count": 17,
   "metadata": {},
   "outputs": [
    {
     "name": "stdout",
     "output_type": "stream",
     "text": [
      "1584 1\n",
      "2443 1\n",
      "2469 1\n",
      "2397 1\n",
      "2555 1\n",
      "2635 1\n",
      "2780 1\n",
      "3035 1\n",
      "3025 1\n",
      "3102 1\n",
      "2150 1\n",
      "489 1\n"
     ]
    }
   ],
   "source": [
    "globalMax = 0\n",
    "globalMin = 0\n",
    "first = True\n",
    "for i in range(1, 13):\n",
    "    day = None\n",
    "    if i < 10:\n",
    "        day = '0' + str(i)\n",
    "    else:\n",
    "        day = str(i)\n",
    "    \n",
    "    df = pd.read_csv('[Day ' + day + ']-tweets.csv').groupby('Location').count().reset_index()\n",
    "    maxReg = df.max()['UserID']\n",
    "    minReg = df.min()['UserID']\n",
    "    print(maxReg, minReg)\n",
    "    if first:\n",
    "        first = False\n",
    "        globalMax = maxReg\n",
    "        globalMin = minReg\n",
    "    else:\n",
    "        if maxReg > globalMax:\n",
    "            globalMax = maxReg\n",
    "        if minReg < globalMin:\n",
    "            globalMin = minReg"
   ]
  },
  {
   "cell_type": "code",
   "execution_count": 15,
   "metadata": {},
   "outputs": [
    {
     "data": {
      "text/plain": [
       "3102"
      ]
     },
     "execution_count": 15,
     "metadata": {},
     "output_type": "execute_result"
    }
   ],
   "source": [
    "globalMax"
   ]
  }
 ],
 "metadata": {
  "kernelspec": {
   "display_name": "Python 3",
   "language": "python",
   "name": "python3"
  },
  "language_info": {
   "codemirror_mode": {
    "name": "ipython",
    "version": 3
   },
   "file_extension": ".py",
   "mimetype": "text/x-python",
   "name": "python",
   "nbconvert_exporter": "python",
   "pygments_lexer": "ipython3",
   "version": "3.7.1"
  }
 },
 "nbformat": 4,
 "nbformat_minor": 2
}
